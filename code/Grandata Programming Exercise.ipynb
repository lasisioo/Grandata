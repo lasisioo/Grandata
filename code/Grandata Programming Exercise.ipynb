{
 "cells": [
  {
   "cell_type": "markdown",
   "metadata": {},
   "source": [
    "### 1 - Number of social links"
   ]
  },
  {
   "cell_type": "markdown",
   "metadata": {},
   "source": [
    "From Terminal, I found that the entire data set has 30,000,000 entries. Since the dataset is large, I randomly selected 10,000 data points for analysis."
   ]
  },
  {
   "cell_type": "code",
   "execution_count": null,
   "metadata": {
    "collapsed": false
   },
   "outputs": [],
   "source": [
    "# import pandas\n",
    "# import random\n",
    "\n",
    "# filename = \"../../../../Downloads/grafo.txt\"\n",
    "# n = sum(1 for line in open(filename)) - 1 \n",
    "# s = 10000\n",
    "# skip = sorted(random.sample(xrange(1,n+1),n-s)) \n",
    "# df = pandas.read_csv(filename, sep=\"|\", skiprows=skip)"
   ]
  },
  {
   "cell_type": "code",
   "execution_count": 29,
   "metadata": {
    "collapsed": true
   },
   "outputs": [],
   "source": [
    "# df.to_csv(\"../asset/sample.csv\")\n",
    "df = pandas.read_csv(\"../asset/sample.csv\")"
   ]
  },
  {
   "cell_type": "code",
   "execution_count": 34,
   "metadata": {
    "collapsed": false
   },
   "outputs": [],
   "source": [
    "df = df.drop(df.columns[[0, 1, 2]], axis=1)"
   ]
  },
  {
   "cell_type": "code",
   "execution_count": 35,
   "metadata": {
    "collapsed": false
   },
   "outputs": [
    {
     "data": {
      "text/plain": [
       "(10000, 5)"
      ]
     },
     "execution_count": 35,
     "metadata": {},
     "output_type": "execute_result"
    }
   ],
   "source": [
    "df.shape"
   ]
  },
  {
   "cell_type": "code",
   "execution_count": 36,
   "metadata": {
    "collapsed": false
   },
   "outputs": [
    {
     "data": {
      "text/html": [
       "<div>\n",
       "<table border=\"1\" class=\"dataframe\">\n",
       "  <thead>\n",
       "    <tr style=\"text-align: right;\">\n",
       "      <th></th>\n",
       "      <th>ID_cliente1</th>\n",
       "      <th>ID_cliente2</th>\n",
       "      <th>Numero_de_llamados</th>\n",
       "      <th>genero_cliente1</th>\n",
       "      <th>edad_cliente1</th>\n",
       "    </tr>\n",
       "  </thead>\n",
       "  <tbody>\n",
       "    <tr>\n",
       "      <th>0</th>\n",
       "      <td>230899392</td>\n",
       "      <td>1463048</td>\n",
       "      <td>27</td>\n",
       "      <td>MASCULINO</td>\n",
       "      <td>76</td>\n",
       "    </tr>\n",
       "    <tr>\n",
       "      <th>1</th>\n",
       "      <td>83020691</td>\n",
       "      <td>93785645</td>\n",
       "      <td>1</td>\n",
       "      <td>MASCULINO</td>\n",
       "      <td>66</td>\n",
       "    </tr>\n",
       "    <tr>\n",
       "      <th>2</th>\n",
       "      <td>73082118</td>\n",
       "      <td>118411530</td>\n",
       "      <td>0</td>\n",
       "      <td>MASCULINO</td>\n",
       "      <td>44</td>\n",
       "    </tr>\n",
       "    <tr>\n",
       "      <th>3</th>\n",
       "      <td>70794435</td>\n",
       "      <td>128905189</td>\n",
       "      <td>1</td>\n",
       "      <td>MASCULINO</td>\n",
       "      <td>73</td>\n",
       "    </tr>\n",
       "    <tr>\n",
       "      <th>4</th>\n",
       "      <td>23899067</td>\n",
       "      <td>276463837</td>\n",
       "      <td>5</td>\n",
       "      <td>FEMENINO</td>\n",
       "      <td>74</td>\n",
       "    </tr>\n",
       "  </tbody>\n",
       "</table>\n",
       "</div>"
      ],
      "text/plain": [
       "   ID_cliente1  ID_cliente2  Numero_de_llamados genero_cliente1  edad_cliente1\n",
       "0    230899392      1463048                  27       MASCULINO             76\n",
       "1     83020691     93785645                   1       MASCULINO             66\n",
       "2     73082118    118411530                   0       MASCULINO             44\n",
       "3     70794435    128905189                   1       MASCULINO             73\n",
       "4     23899067    276463837                   5        FEMENINO             74"
      ]
     },
     "execution_count": 36,
     "metadata": {},
     "output_type": "execute_result"
    }
   ],
   "source": [
    "df.head()"
   ]
  },
  {
   "cell_type": "markdown",
   "metadata": {},
   "source": [
    "### 2 - Estimate the fraction of  women vs men making outgoing calls. "
   ]
  },
  {
   "cell_type": "code",
   "execution_count": 37,
   "metadata": {
    "collapsed": false
   },
   "outputs": [
    {
     "name": "stdout",
     "output_type": "stream",
     "text": [
      "Female: 0.255\n",
      "Male: 0.745\n"
     ]
    }
   ],
   "source": [
    "total = df.shape\n",
    "fem = df.loc[df.genero_cliente1 == \"FEMENINO\"].shape\n",
    "mas = df.loc[df.genero_cliente1 == \"MASCULINO\"].shape\n",
    "\n",
    "print \"Female:\", fem[0]/float(total[0])\n",
    "print \"Male:\", mas[0]/float(total[0])"
   ]
  },
  {
   "cell_type": "markdown",
   "metadata": {},
   "source": [
    "### Same for incoming calls."
   ]
  },
  {
   "cell_type": "code",
   "execution_count": 38,
   "metadata": {
    "collapsed": true
   },
   "outputs": [],
   "source": [
    "df2 = df[(df.ID_cliente2.isin(df[\"ID_cliente1\"]))]\n",
    "df3 = df[(df.ID_cliente1.isin(df[\"ID_cliente2\"]))]"
   ]
  },
  {
   "cell_type": "code",
   "execution_count": 39,
   "metadata": {
    "collapsed": true
   },
   "outputs": [],
   "source": [
    "frames = [df2, df3]\n",
    "df4 = pandas.concat(frames)"
   ]
  },
  {
   "cell_type": "code",
   "execution_count": 40,
   "metadata": {
    "collapsed": false
   },
   "outputs": [
    {
     "data": {
      "text/plain": [
       "(48, 5)"
      ]
     },
     "execution_count": 40,
     "metadata": {},
     "output_type": "execute_result"
    }
   ],
   "source": [
    "df4.drop_duplicates(inplace=True)\n",
    "df4.shape"
   ]
  },
  {
   "cell_type": "code",
   "execution_count": 41,
   "metadata": {
    "collapsed": false
   },
   "outputs": [
    {
     "name": "stdout",
     "output_type": "stream",
     "text": [
      "Female: 0.229166666667\n",
      "Male: 0.770833333333\n"
     ]
    }
   ],
   "source": [
    "total2 = df4.shape\n",
    "fem2 = df4.loc[df4.genero_cliente1 == \"FEMENINO\"].shape\n",
    "mas2 = df4.loc[df4.genero_cliente1 == \"MASCULINO\"].shape\n",
    "\n",
    "print \"Female:\", fem2[0]/float(total2[0]) \n",
    "print \"Male:\", mas2[0]/float(total2[0])"
   ]
  },
  {
   "cell_type": "markdown",
   "metadata": {},
   "source": [
    "### 3 - Estimate the mean and standard deviation for the age of men clients. "
   ]
  },
  {
   "cell_type": "code",
   "execution_count": 42,
   "metadata": {
    "collapsed": false
   },
   "outputs": [
    {
     "name": "stdout",
     "output_type": "stream",
     "text": [
      "mean: 49.506442953\n",
      "standardDev: 17.2753097159\n"
     ]
    }
   ],
   "source": [
    "male = df.loc[df.genero_cliente1 == \"MASCULINO\"]\n",
    "\n",
    "mn = male[\"edad_cliente1\"].mean()\n",
    "std = male[\"edad_cliente1\"].std()\n",
    "print \"mean:\", mn\n",
    "print \"standardDev:\", std"
   ]
  },
  {
   "cell_type": "markdown",
   "metadata": {},
   "source": [
    "### 4 - Estimate the number of calls made by women under the age of 40."
   ]
  },
  {
   "cell_type": "code",
   "execution_count": 43,
   "metadata": {
    "collapsed": false
   },
   "outputs": [
    {
     "data": {
      "text/plain": [
       "15034"
      ]
     },
     "execution_count": 43,
     "metadata": {},
     "output_type": "execute_result"
    }
   ],
   "source": [
    "women = df.loc[df.genero_cliente1 == \"FEMENINO\"]\n",
    "womenUnder40 = df.loc[df.edad_cliente1 < 40]\n",
    "addWomen = womenUnder40[\"Numero_de_llamados\"].sum()\n",
    "addWomen"
   ]
  },
  {
   "cell_type": "markdown",
   "metadata": {},
   "source": [
    "### 5 - Estimate the probability that for a given call, both caller and callee have the same gender."
   ]
  },
  {
   "cell_type": "markdown",
   "metadata": {},
   "source": [
    "For this question and the next, I couldn't get my code to finish running but I still wanted to highlight my thought process."
   ]
  },
  {
   "cell_type": "code",
   "execution_count": null,
   "metadata": {
    "collapsed": false
   },
   "outputs": [],
   "source": [
    "newL = []\n",
    "for i in df[\"ID_cliente2\"]:\n",
    "    for j in df[\"ID_cliente1\"]:\n",
    "        if i in df[\"ID_cliente1\"]:\n",
    "#         if i == j:\n",
    "            tup = [df.loc[df[\"ID_cliente1\"] == i].loc[:, \"genero_cliente1\"], df.loc[df[\"ID_cliente1\"] == j].loc[:, \"genero_cliente1\"]]\n",
    "            newL.append(tup)\n",
    "        \n",
    "newL2 = []\n",
    "for i in newL:\n",
    "    if i[0] == i[1]:\n",
    "        newL2.append(i)        \n",
    "\n",
    "probability = len(newL2)/float(len(newL))"
   ]
  },
  {
   "cell_type": "markdown",
   "metadata": {},
   "source": [
    "### 6 - Anything you can find you deem interesting."
   ]
  },
  {
   "cell_type": "markdown",
   "metadata": {},
   "source": [
    "I wanted to estimate the probabilty that for a given call, both caller and callee are in similar age groups (within 5 years apart)."
   ]
  },
  {
   "cell_type": "code",
   "execution_count": null,
   "metadata": {
    "collapsed": true
   },
   "outputs": [],
   "source": [
    "newL3 = []\n",
    "for i in df[\"ID_cliente2\"]:\n",
    "    for j in df[\"ID_cliente1\"]:\n",
    "        if i in df[\"ID_cliente1\"]:\n",
    "#         if i == j:\n",
    "            tup = [df.loc[df[\"ID_cliente1\"] == i].loc[:, \"edad_cliente1\"], df.loc[df[\"ID_cliente1\"] == j].loc[:, \"edad_cliente1\"]]\n",
    "            newL3.append(tup)\n",
    "\n",
    "newL4 = []\n",
    "for i in newL4:\n",
    "    if abs(i[0] - i[1]) <= 5 :\n",
    "        newL2.append(i)\n",
    "\n",
    "probability = len(newL3)/float(len(newL4))"
   ]
  }
 ],
 "metadata": {
  "anaconda-cloud": {},
  "kernelspec": {
   "display_name": "Python [conda root]",
   "language": "python",
   "name": "conda-root-py"
  },
  "language_info": {
   "codemirror_mode": {
    "name": "ipython",
    "version": 2
   },
   "file_extension": ".py",
   "mimetype": "text/x-python",
   "name": "python",
   "nbconvert_exporter": "python",
   "pygments_lexer": "ipython2",
   "version": "2.7.12"
  }
 },
 "nbformat": 4,
 "nbformat_minor": 1
}
